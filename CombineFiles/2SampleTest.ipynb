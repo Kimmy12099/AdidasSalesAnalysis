{
 "cells": [
  {
   "cell_type": "code",
   "execution_count": 2,
   "id": "d28d3fb7-6740-46c1-80f7-346a110a6f55",
   "metadata": {},
   "outputs": [],
   "source": [
    "import pandas as pd\n",
    "import numpy as np \n",
    "from scipy import stats as st"
   ]
  },
  {
   "cell_type": "code",
   "execution_count": 6,
   "id": "6e011088-2a23-43d0-a3ce-db58cb9cc744",
   "metadata": {},
   "outputs": [],
   "source": [
    "df = pd.read_excel('DATASET.xlsx')\n",
    "\n",
    "women = []\n",
    "men = []"
   ]
  },
  {
   "cell_type": "code",
   "execution_count": 7,
   "id": "8e741a30-601d-45e8-88e3-b03d3d2687f1",
   "metadata": {},
   "outputs": [
    {
     "data": {
      "text/plain": [
       "-1.9602101266791245"
      ]
     },
     "execution_count": 7,
     "metadata": {},
     "output_type": "execute_result"
    }
   ],
   "source": [
    "for index in df.index:  # Iterate over the indices\n",
    "    if df[\"Men/Women\"][index] == \"Women\":\n",
    "        women.append(df[\"Operating Profit\"][index]) \n",
    "    else:\n",
    "        men.append(df[\"Operating Profit\"][index])  \n",
    "df_value = (len(women) + len(men) - 2)\n",
    "#print(df_value)\n",
    "\n",
    "st.t.ppf(q=0.025,df=df_value)\n",
    "\n",
    "#signficinace level: 0.025 q value \n",
    "#degrees of freedom: (len(women) + len(men)) - 2 giving critical value \n",
    "\n",
    "#st.ttest_ind(women, men) "
   ]
  },
  {
   "cell_type": "code",
   "execution_count": 8,
   "id": "b727c723-ea45-4a59-823a-c78e48f57a70",
   "metadata": {},
   "outputs": [
    {
     "data": {
      "text/plain": [
       "TtestResult(statistic=-4.962903595227699, pvalue=7.063522151995548e-07, df=9639.0)"
      ]
     },
     "execution_count": 8,
     "metadata": {},
     "output_type": "execute_result"
    }
   ],
   "source": [
    "st.ttest_ind(women,men)"
   ]
  },
  {
   "cell_type": "code",
   "execution_count": null,
   "id": "0a018e1d-a6cf-4618-83ac-563aab98be50",
   "metadata": {},
   "outputs": [],
   "source": []
  }
 ],
 "metadata": {
  "kernelspec": {
   "display_name": "Python 3 (ipykernel)",
   "language": "python",
   "name": "python3"
  },
  "language_info": {
   "codemirror_mode": {
    "name": "ipython",
    "version": 3
   },
   "file_extension": ".py",
   "mimetype": "text/x-python",
   "name": "python",
   "nbconvert_exporter": "python",
   "pygments_lexer": "ipython3",
   "version": "3.12.7"
  }
 },
 "nbformat": 4,
 "nbformat_minor": 5
}
