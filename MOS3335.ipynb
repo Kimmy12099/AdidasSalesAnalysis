{
 "cells": [
  {
   "cell_type": "code",
   "execution_count": 4,
   "id": "46c0cfc7-12eb-4761-bf51-e16765b01497",
   "metadata": {},
   "outputs": [],
   "source": [
    "import numpy as np\n",
    "import pandas as pd "
   ]
  },
  {
   "cell_type": "code",
   "execution_count": 5,
   "id": "e9e77970-a763-4498-96d6-9cd44b0cda44",
   "metadata": {},
   "outputs": [],
   "source": [
    "df = pd.read_csv(\"data_sales.csv\") \n"
   ]
  },
  {
   "cell_type": "code",
   "execution_count": 6,
   "id": "8edb56be-d31c-43eb-9bd9-fe4eb8349bfa",
   "metadata": {},
   "outputs": [
    {
     "data": {
      "text/html": [
       "<div>\n",
       "<style scoped>\n",
       "    .dataframe tbody tr th:only-of-type {\n",
       "        vertical-align: middle;\n",
       "    }\n",
       "\n",
       "    .dataframe tbody tr th {\n",
       "        vertical-align: top;\n",
       "    }\n",
       "\n",
       "    .dataframe thead th {\n",
       "        text-align: right;\n",
       "    }\n",
       "</style>\n",
       "<table border=\"1\" class=\"dataframe\">\n",
       "  <thead>\n",
       "    <tr style=\"text-align: right;\">\n",
       "      <th></th>\n",
       "      <th>Retailer ID</th>\n",
       "    </tr>\n",
       "  </thead>\n",
       "  <tbody>\n",
       "    <tr>\n",
       "      <th>count</th>\n",
       "      <td>9.641000e+03</td>\n",
       "    </tr>\n",
       "    <tr>\n",
       "      <th>mean</th>\n",
       "      <td>1.173851e+06</td>\n",
       "    </tr>\n",
       "    <tr>\n",
       "      <th>std</th>\n",
       "      <td>2.635869e+04</td>\n",
       "    </tr>\n",
       "    <tr>\n",
       "      <th>min</th>\n",
       "      <td>1.128299e+06</td>\n",
       "    </tr>\n",
       "    <tr>\n",
       "      <th>25%</th>\n",
       "      <td>1.185732e+06</td>\n",
       "    </tr>\n",
       "    <tr>\n",
       "      <th>50%</th>\n",
       "      <td>1.185732e+06</td>\n",
       "    </tr>\n",
       "    <tr>\n",
       "      <th>75%</th>\n",
       "      <td>1.185732e+06</td>\n",
       "    </tr>\n",
       "    <tr>\n",
       "      <th>max</th>\n",
       "      <td>1.197831e+06</td>\n",
       "    </tr>\n",
       "  </tbody>\n",
       "</table>\n",
       "</div>"
      ],
      "text/plain": [
       "        Retailer ID\n",
       "count  9.641000e+03\n",
       "mean   1.173851e+06\n",
       "std    2.635869e+04\n",
       "min    1.128299e+06\n",
       "25%    1.185732e+06\n",
       "50%    1.185732e+06\n",
       "75%    1.185732e+06\n",
       "max    1.197831e+06"
      ]
     },
     "execution_count": 6,
     "metadata": {},
     "output_type": "execute_result"
    }
   ],
   "source": [
    "df.describe()"
   ]
  },
  {
   "cell_type": "code",
   "execution_count": 7,
   "id": "62e33a70-a962-49f0-87ff-f667c9c293bd",
   "metadata": {},
   "outputs": [],
   "source": [
    "#Cleaning the dataset\n",
    "columns = [\"Price per Unit\", \"Units Sold\", \"Total Sales\", \"Operating Profit\"]\n",
    "\n",
    "df[columns] = df[columns].replace({r'[\\$,]': ''}, regex=True).astype(float)\n"
   ]
  },
  {
   "cell_type": "code",
   "execution_count": 23,
   "id": "8e7e7ce8-8413-4c4a-ad3c-e452bddd75ee",
   "metadata": {
    "scrolled": true
   },
   "outputs": [
    {
     "name": "stdout",
     "output_type": "stream",
     "text": [
      "Price per Unit:\n",
      "  Mean: 45.212158937649136\n",
      "  Median: 45.0\n",
      "  Mode: [50.0]\n",
      " Standard Deviation: 14.705009483110453\n",
      " Skewness: 0.36204221306668793\n",
      " Kurtosis: 0.4304647474693022\n",
      "\n",
      "Units Sold:\n",
      "  Mean: 256.779483456073\n",
      "  Median: 176.0\n",
      "  Mode: [225.0]\n",
      " Standard Deviation: 214.11710091134557\n",
      " Skewness: 1.4637996418332748\n",
      " Kurtosis: 1.7080780376207567\n",
      "\n",
      "Total Sales:\n",
      "  Mean: 9316.467897521004\n",
      "  Median: 957.0\n",
      "  Mode: [10000.0]\n",
      " Standard Deviation: 14182.917946904377\n",
      " Skewness: 1.8433029871288338\n",
      " Kurtosis: 3.1543841211764185\n",
      "\n",
      "Operating Profit:\n",
      "  Mean: 3439.278498081112\n",
      "  Median: 437.0\n",
      "  Mode: [6300.0, 10500.0]\n",
      " Standard Deviation: 5417.539167467157\n",
      " Skewness: 2.235878865220591\n",
      " Kurtosis: 5.834653945931372\n",
      "\n"
     ]
    }
   ],
   "source": [
    "for col in columns:\n",
    "    mean = df[col].mean()\n",
    "    median = df[col].median()\n",
    "    mode = df[col].mode()  \n",
    "    sd = df[col].std()\n",
    "    skewness = df[col].skew()\n",
    "    kurtosis = df[col].kurt()\n",
    "\n",
    "\n",
    "    print(f\"{col}:\")\n",
    "    print(f\"  Mean: {mean}\")\n",
    "    print(f\"  Median: {median}\")\n",
    "    print(f\"  Mode: {list(mode)}\")  \n",
    "    print(f\" Standard Deviation: {sd}\")\n",
    "    print(f\" Skewness: {skewness}\")\n",
    "    print(f\" Kurtosis: {kurtosis}\")\n",
    "    print()\n"
   ]
  },
  {
   "cell_type": "code",
   "execution_count": 24,
   "id": "4bbde9bc-5372-406b-b09a-bf268234f98d",
   "metadata": {},
   "outputs": [
    {
     "name": "stdout",
     "output_type": "stream",
     "text": [
      "        Retailer  Price per Unit  Units Sold  Total Sales  Operating Profit\n",
      "0         Amazon           48.76    197990.0    7769912.0         2881885.0\n",
      "1    Foot Locker           44.78    603919.0   21989528.0         8065150.0\n",
      "2         Kohl's           44.61    287375.0   10211506.0         3681153.0\n",
      "3  Sports Direct           42.05    556090.0   18188531.0         7412864.0\n",
      "4        Walmart           47.18    206225.0    7455850.0         2578226.0\n",
      "5      West Gear           46.72    624012.0   24204740.0         8538806.0\n"
     ]
    }
   ],
   "source": [
    "#Groups by retailer, allows you to apply different aggregate functions to different columns\n",
    "#We are getting average price per unit, and then sum of units sold, total sales, and operating profit \n",
    "#Round by 2 decimal places \n",
    "#then reset index to default back to regular DF index\n",
    "grouped_results = df.groupby('Retailer').agg({\n",
    "    'Price per Unit': 'mean',\n",
    "    'Units Sold': 'sum',\n",
    "    'Total Sales': 'sum',\n",
    "    'Operating Profit': 'sum'\n",
    "}).round(2).reset_index()\n",
    "\n",
    "print(grouped_results)"
   ]
  },
  {
   "cell_type": "code",
   "execution_count": 25,
   "id": "bc5db34d-699d-45e6-b9a4-142160b494bd",
   "metadata": {},
   "outputs": [
    {
     "name": "stdout",
     "output_type": "stream",
     "text": [
      "      Region  Price per Unit  Units Sold  Total Sales  Operating Profit\n",
      "0    Midwest           40.36    390887.0   13560070.0         5274020.0\n",
      "1  Northeast           46.69    501279.0   18632487.0         6802150.0\n",
      "2      South           38.24    490710.0   14407736.0         6093344.0\n",
      "3  Southeast           50.18    407000.0   16317146.0         6055601.0\n",
      "4       West           49.92    685735.0   26902628.0         8932969.0\n"
     ]
    }
   ],
   "source": [
    "grouped_results = df.groupby('Region').agg({\n",
    "    'Price per Unit': 'mean',\n",
    "    'Units Sold': 'sum',\n",
    "    'Total Sales': 'sum',\n",
    "    'Operating Profit': 'sum'\n",
    "}).round(2).reset_index()\n",
    "\n",
    "print(grouped_results)"
   ]
  },
  {
   "cell_type": "code",
   "execution_count": 26,
   "id": "ee086f52-0378-4c29-b6e3-2e4a89c3da90",
   "metadata": {},
   "outputs": [
    {
     "name": "stdout",
     "output_type": "stream",
     "text": [
      "             State  Price per Unit  Units Sold  Total Sales  Operating Profit\n",
      "0          Alabama           36.69     63327.0    1763350.0          914772.0\n",
      "1           Alaska           57.22     30815.0    1475313.0          449840.0\n",
      "2          Arizona           45.96     46919.0    1578229.0          534486.0\n",
      "3         Arkansas           33.34     48468.0    1263941.0          491575.0\n",
      "4       California           49.44    162034.0    5925674.0         1902069.0\n",
      "5         Colorado           60.09     41378.0    2099661.0          771362.0\n",
      "6      Connecticut           43.62     34696.0    1157352.0          415241.0\n",
      "7         Delaware           47.41     30275.0    1229846.0          452445.0\n",
      "8          Florida           56.69    133430.0    5928380.0         2092645.0\n",
      "9          Georgia           46.81     56391.0    1899750.0          689336.0\n",
      "10          Hawaii           64.25     40375.0    2228245.0          584990.0\n",
      "11           Idaho           40.01     63827.0    1927690.0          812123.0\n",
      "12        Illinois           47.84     24957.0     959752.0          384845.0\n",
      "13         Indiana           38.85     26332.0     883624.0          337932.0\n",
      "14            Iowa           36.42     23446.0     742403.0          265526.0\n",
      "15          Kansas           38.29     29463.0     997289.0          351025.0\n",
      "16        Kentucky           43.45     28664.0    1007284.0          393590.0\n",
      "17       Louisiana           52.34     57615.0    2375082.0          941727.0\n",
      "18           Maine           48.64     22410.0     919595.0          318774.0\n",
      "19        Maryland           44.07     20818.0     775808.0          275771.0\n",
      "20   Massachusetts           44.79     32895.0    1107696.0          335396.0\n",
      "21        Michigan           43.42     50095.0    1862546.0          813604.0\n",
      "22       Minnesota           41.37     20838.0     737807.0          267032.0\n",
      "23     Mississippi           35.48     56814.0    1559176.0          636913.0\n",
      "24        Missouri           31.49     36404.0     968323.0          390725.0\n",
      "25         Montana           45.02     42713.0    1571090.0          623203.0\n",
      "26        Nebraska           36.87     19154.0     592907.0          243952.0\n",
      "27          Nevada           54.33     51831.0    2085854.0          706069.0\n",
      "28   New Hampshire           53.64     40812.0    1641171.0          578634.0\n",
      "29      New Jersey           43.98     26540.0     993430.0          365725.0\n",
      "30      New Mexico           50.61     52633.0    1986512.0          673807.0\n",
      "31        New York           49.08    169140.0    6422918.0         2333001.0\n",
      "32  North Carolina           44.48     62936.0    2395657.0          975646.0\n",
      "33    North Dakota           39.77     22781.0     773557.0          268858.0\n",
      "34            Ohio           44.59     47781.0    1848459.0          752886.0\n",
      "35        Oklahoma           33.42     40459.0    1062080.0          410663.0\n",
      "36          Oregon           53.74     50536.0    2134969.0          757322.0\n",
      "37    Pennsylvania           49.94     27662.0    1035758.0          415676.0\n",
      "38    Rhode Island           40.35     27473.0     844687.0          304587.0\n",
      "39  South Carolina           47.72     72610.0    2928565.0         1132433.0\n",
      "40    South Dakota           43.83     22973.0     849562.0          294340.0\n",
      "41       Tennessee           36.10     66077.0    1806748.0          849369.0\n",
      "42           Texas           39.27    157950.0    4577359.0         1848325.0\n",
      "43            Utah           26.83     48548.0     969652.0          387346.0\n",
      "44         Vermont           49.31     38685.0    1435306.0          578602.0\n",
      "45        Virginia           52.64     52969.0    2157510.0          771951.0\n",
      "46      Washington           67.65     46611.0    2633075.0          699147.0\n",
      "47   West Virginia           41.07     29873.0    1068920.0          428298.0\n",
      "48       Wisconsin           37.06     23950.0     772751.0          280092.0\n",
      "49         Wyoming           43.94     50228.0    1857754.0          654408.0\n"
     ]
    }
   ],
   "source": [
    "grouped_results = df.groupby('State').agg({\n",
    "    'Price per Unit': 'mean',\n",
    "    'Units Sold': 'sum',\n",
    "    'Total Sales': 'sum',\n",
    "    'Operating Profit': 'sum'\n",
    "}).round(2).reset_index()\n",
    "\n",
    "print(grouped_results)"
   ]
  },
  {
   "cell_type": "code",
   "execution_count": 27,
   "id": "b0df8b6d-ce89-4cc4-afca-0fb1fa375f2e",
   "metadata": {},
   "outputs": [
    {
     "name": "stdout",
     "output_type": "stream",
     "text": [
      "                     Product  Price per Unit  Units Sold  Total Sales  \\\n",
      "0              Men's Apparel           50.31    305233.0   12283155.0   \n",
      "1    Men's Athletic Footwear           43.78    434451.0   15322410.0   \n",
      "2      Men's Street Footwear           44.24    593320.0   20882669.0   \n",
      "3               Men's aparel           60.00       900.0      54000.0   \n",
      "4            Women's Apparel           51.58    433127.0   17847910.0   \n",
      "5  Women's Athletic Footwear           41.11    317136.0   10659235.0   \n",
      "6    Women's Street Footwear           40.26    391444.0   12770688.0   \n",
      "\n",
      "   Operating Profit  \n",
      "0         4440519.0  \n",
      "1         5168997.0  \n",
      "2         8280294.0  \n",
      "3           16200.0  \n",
      "4         6856750.0  \n",
      "5         3896040.0  \n",
      "6         4499284.0  \n"
     ]
    }
   ],
   "source": [
    "grouped_results = df.groupby('Product').agg({\n",
    "    'Price per Unit': 'mean',\n",
    "    'Units Sold': 'sum',\n",
    "    'Total Sales': 'sum',\n",
    "    'Operating Profit': 'sum'\n",
    "}).round(2).reset_index()\n",
    "\n",
    "print(grouped_results)"
   ]
  },
  {
   "cell_type": "code",
   "execution_count": null,
   "id": "2bf9055d-c44a-4668-b496-ea23cdf21c42",
   "metadata": {},
   "outputs": [],
   "source": []
  }
 ],
 "metadata": {
  "kernelspec": {
   "display_name": "Python 3 (ipykernel)",
   "language": "python",
   "name": "python3"
  },
  "language_info": {
   "codemirror_mode": {
    "name": "ipython",
    "version": 3
   },
   "file_extension": ".py",
   "mimetype": "text/x-python",
   "name": "python",
   "nbconvert_exporter": "python",
   "pygments_lexer": "ipython3",
   "version": "3.12.7"
  }
 },
 "nbformat": 4,
 "nbformat_minor": 5
}
